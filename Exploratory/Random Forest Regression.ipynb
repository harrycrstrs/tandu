{
 "cells": [
  {
   "cell_type": "code",
   "execution_count": 100,
   "metadata": {},
   "outputs": [],
   "source": [
    "from sklearn.ensemble import RandomForestRegressor\n",
    "import numpy as np\n",
    "import os\n",
    "from matplotlib import pyplot as plt\n",
    "os.chdir('/disk/scratch/local.4/harry/TDX/')"
   ]
  },
  {
   "cell_type": "code",
   "execution_count": 103,
   "metadata": {},
   "outputs": [
    {
     "name": "stdout",
     "output_type": "stream",
     "text": [
      "(5, 78, 93)\n",
      "(7254, 5)\n",
      "(298, 5)\n",
      "(208, 5)\n",
      "(90, 5)\n"
     ]
    }
   ],
   "source": [
    "data = np.load('data.npy')\n",
    "print(data.shape)\n",
    "data = np.moveaxis(data.reshape(5,-1),0,-1)\n",
    "print(data.shape)\n",
    "data = data[np.isnan(data).sum(axis=1) == 0 ,:]\n",
    "print(data.shape)\n",
    "\n",
    "N = data.shape[0]\n",
    "Ntrain = int(N*0.7)\n",
    "indices = np.random.permutation(N)\n",
    "trainingI, testI = indices[:Ntrain], indices[Ntrain:]\n",
    "trainData, testData = data[trainingI,:], data[testI,:]\n",
    "print(trainData.shape)\n",
    "print(testData.shape)"
   ]
  },
  {
   "cell_type": "code",
   "execution_count": 118,
   "metadata": {},
   "outputs": [
    {
     "name": "stdout",
     "output_type": "stream",
     "text": [
      "Coefficient of determination:  0.318318328931127\n"
     ]
    },
    {
     "data": {
      "image/png": "[encoded data removed]",
      "text/plain": [
       "<Figure size 432x288 with 1 Axes>"
      ]
     },
     "metadata": {
      "needs_background": "light"
     },
     "output_type": "display_data"
    }
   ],
   "source": [
    "regr = RandomForestRegressor(max_depth =5,n_estimators=55)\n",
    "regr.fit(trainData[:,1:],trainData[:,0])\n",
    "\n",
    "pred = regr.predict(testData[:,1:])\n",
    "\n",
    "plt.scatter(testData[:,0],pred,alpha=0.8)\n",
    "plt.scatter(trainData[:,0],regr.predict(trainData[:,1:]),s=1,color='black',alpha=0.8)\n",
    "plt.plot([-5,2],[-5,2],color='black',alpha=0.2)\n",
    "plt.savefig('/home/s1332488/Chapter3/Figures/RF_regr.png')\n",
    "print('Coefficient of determination: ',regr.score(testData[:,1:],testData[:,0]))"
   ]
  },
  {
   "cell_type": "code",
   "execution_count": null,
   "metadata": {},
   "outputs": [],
   "source": []
  },
  {
   "cell_type": "code",
   "execution_count": 71,
   "metadata": {},
   "outputs": [
    {
     "data": {
      "text/plain": [
       "RandomForestRegressor(random_state=0)"
      ]
     },
     "execution_count": 71,
     "metadata": {},
     "output_type": "execute_result"
    }
   ],
   "source": []
  },
  {
   "cell_type": "code",
   "execution_count": 70,
   "metadata": {},
   "outputs": [
    {
     "name": "stdout",
     "output_type": "stream",
     "text": [
      "(2016, 5)\n",
      "(865, 5)\n"
     ]
    }
   ],
   "source": []
  },
  {
   "cell_type": "code",
   "execution_count": 63,
   "metadata": {},
   "outputs": [
    {
     "data": {
      "text/plain": [
       "(2881, 5)"
      ]
     },
     "execution_count": 63,
     "metadata": {},
     "output_type": "execute_result"
    }
   ],
   "source": []
  }
 ],
 "metadata": {
  "kernelspec": {
   "display_name": "sklearn",
   "language": "python",
   "name": "sklearn"
  },
  "language_info": {
   "codemirror_mode": {
    "name": "ipython",
    "version": 3
   },
   "file_extension": ".py",
   "mimetype": "text/x-python",
   "name": "python",
   "nbconvert_exporter": "python",
   "pygments_lexer": "ipython3",
   "version": "3.7.10"
  }
 },
 "nbformat": 4,
 "nbformat_minor": 4
}
