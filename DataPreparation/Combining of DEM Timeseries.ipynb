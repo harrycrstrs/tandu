{
 "cells": [
  {
   "cell_type": "code",
   "execution_count": 11,
   "metadata": {},
   "outputs": [],
   "source": [
    "from osgeo import gdal\n",
    "import xarray as xr\n",
    "import rasterio as rx\n",
    "import numpy as np\n",
    "from glob import glob\n",
    "import os\n",
    "from datetime import datetime as dt\n",
    "from matplotlib import pyplot as plt"
   ]
  },
  {
   "cell_type": "code",
   "execution_count": 2,
   "metadata": {},
   "outputs": [],
   "source": [
    "os.chdir('/disk/scratch/local.4/harry/TDX/DEM_timeseries')"
   ]
  },
  {
   "cell_type": "code",
   "execution_count": 3,
   "metadata": {},
   "outputs": [
    {
     "name": "stdout",
     "output_type": "stream",
     "text": [
      "Time Series should have 23 images (all HS in descending orbit)\n"
     ]
    },
    {
     "data": {
      "text/plain": [
       "23"
      ]
     },
     "execution_count": 3,
     "metadata": {},
     "output_type": "execute_result"
    }
   ],
   "source": [
    "DEMs = glob('DEM*HS*.tiff')\n",
    "DEMs.sort()\n",
    "DEMs.remove('DEM_TAXI_TDM1_SAR__COS_BIST_HS_S_SRA_20190624T225607_20190624T225608_HH.tiff')\n",
    "DEMs.remove('DEM_TAXI_TDM1_SAR__COS_BIST_HS_S_SRA_20210630T225621_20210630T225622_HH.tiff')\n",
    "print('Time Series should have 23 images (all HS in descending orbit)')\n",
    "len(DEMs)"
   ]
  },
  {
   "cell_type": "code",
   "execution_count": 4,
   "metadata": {},
   "outputs": [
    {
     "name": "stdout",
     "output_type": "stream",
     "text": [
      "Same for the coherence files: \n",
      "23\n"
     ]
    }
   ],
   "source": [
    "COHs = glob('*COH*HS*.tiff')\n",
    "COHs.sort()\n",
    "print('Same for the coherence files: ')\n",
    "print(len(COHs))"
   ]
  },
  {
   "cell_type": "code",
   "execution_count": 5,
   "metadata": {},
   "outputs": [
    {
     "name": "stdout",
     "output_type": "stream",
     "text": [
      "Are the dates in the coherence files exactly the same as the DEMs?\n"
     ]
    },
    {
     "data": {
      "text/plain": [
       "True"
      ]
     },
     "execution_count": 5,
     "metadata": {},
     "output_type": "execute_result"
    }
   ],
   "source": [
    "datec = [x.split('_')[-2] for x in COHs]\n",
    "datef = [x.split('_')[-2] for x in DEMs]\n",
    "print('Are the dates in the coherence files exactly the same as the DEMs?')\n",
    "datec == datef"
   ]
  },
  {
   "cell_type": "code",
   "execution_count": 6,
   "metadata": {},
   "outputs": [],
   "source": [
    "coarsening = 1 # coarsening factor (set to one as already 3 m DEMs)\n",
    "\n",
    "def read_timepoint(i):\n",
    "    # Takes an index i and combines height data and coherence data into a single dataset\n",
    "    h = xr.open_rasterio(DEMs[i]).sel(band=1).drop('band').rename('height')\n",
    "    c = xr.open_rasterio(COHs[i]).sel(band=1).drop('band').rename('coherence')\n",
    "    c = c.interp_like(h)\n",
    "    ds = xr.merge([h,c]).rename({'x':'lon','y':'lat'}).coarsen(lat=coarsening,lon=coarsening,boundary='trim').mean()\n",
    "    time = dt.strptime(DEMs[i].split('_')[-3],'%Y%m%dT%H%M%S')\n",
    "    ds = ds.assign_coords(t=time).expand_dims('t')\n",
    "    return ds.astype('float16')\n",
    "\n",
    "def get_dataset():\n",
    "    timeseries = [read_timepoint(i) for i in range(len(DEMs))]\n",
    "    LAT,LON = timeseries[0].lat, timeseries[0].lon\n",
    "    interpolated = [ds.interp(lat=LAT,lon=LON) for ds in timeseries]\n",
    "    return xr.merge(interpolated)"
   ]
  },
  {
   "cell_type": "code",
   "execution_count": 7,
   "metadata": {
    "scrolled": true
   },
   "outputs": [
    {
     "name": "stderr",
     "output_type": "stream",
     "text": [
      "/home/s1332488/.local/lib/python3.7/site-packages/ipykernel_launcher.py:5: DeprecationWarning: open_rasterio is Deprecated in favor of rioxarray. For information about transitioning, see: https://corteva.github.io/rioxarray/stable/getting_started/getting_started.html\n",
      "  \"\"\"\n",
      "/home/s1332488/.local/lib/python3.7/site-packages/ipykernel_launcher.py:6: DeprecationWarning: open_rasterio is Deprecated in favor of rioxarray. For information about transitioning, see: https://corteva.github.io/rioxarray/stable/getting_started/getting_started.html\n",
      "  \n",
      "/home/s1332488/.local/lib/python3.7/site-packages/ipykernel_launcher.py:5: DeprecationWarning: open_rasterio is Deprecated in favor of rioxarray. For information about transitioning, see: https://corteva.github.io/rioxarray/stable/getting_started/getting_started.html\n",
      "  \"\"\"\n",
      "/home/s1332488/.local/lib/python3.7/site-packages/ipykernel_launcher.py:6: DeprecationWarning: open_rasterio is Deprecated in favor of rioxarray. For information about transitioning, see: https://corteva.github.io/rioxarray/stable/getting_started/getting_started.html\n",
      "  \n",
      "/home/s1332488/.local/lib/python3.7/site-packages/ipykernel_launcher.py:5: DeprecationWarning: open_rasterio is Deprecated in favor of rioxarray. For information about transitioning, see: https://corteva.github.io/rioxarray/stable/getting_started/getting_started.html\n",
      "  \"\"\"\n",
      "/home/s1332488/.local/lib/python3.7/site-packages/ipykernel_launcher.py:6: DeprecationWarning: open_rasterio is Deprecated in favor of rioxarray. For information about transitioning, see: https://corteva.github.io/rioxarray/stable/getting_started/getting_started.html\n",
      "  \n",
      "/home/s1332488/.local/lib/python3.7/site-packages/ipykernel_launcher.py:5: DeprecationWarning: open_rasterio is Deprecated in favor of rioxarray. For information about transitioning, see: https://corteva.github.io/rioxarray/stable/getting_started/getting_started.html\n",
      "  \"\"\"\n",
      "/home/s1332488/.local/lib/python3.7/site-packages/ipykernel_launcher.py:6: DeprecationWarning: open_rasterio is Deprecated in favor of rioxarray. For information about transitioning, see: https://corteva.github.io/rioxarray/stable/getting_started/getting_started.html\n",
      "  \n",
      "/home/s1332488/.local/lib/python3.7/site-packages/ipykernel_launcher.py:5: DeprecationWarning: open_rasterio is Deprecated in favor of rioxarray. For information about transitioning, see: https://corteva.github.io/rioxarray/stable/getting_started/getting_started.html\n",
      "  \"\"\"\n",
      "/home/s1332488/.local/lib/python3.7/site-packages/ipykernel_launcher.py:6: DeprecationWarning: open_rasterio is Deprecated in favor of rioxarray. For information about transitioning, see: https://corteva.github.io/rioxarray/stable/getting_started/getting_started.html\n",
      "  \n",
      "/home/s1332488/.local/lib/python3.7/site-packages/ipykernel_launcher.py:5: DeprecationWarning: open_rasterio is Deprecated in favor of rioxarray. For information about transitioning, see: https://corteva.github.io/rioxarray/stable/getting_started/getting_started.html\n",
      "  \"\"\"\n",
      "/home/s1332488/.local/lib/python3.7/site-packages/ipykernel_launcher.py:6: DeprecationWarning: open_rasterio is Deprecated in favor of rioxarray. For information about transitioning, see: https://corteva.github.io/rioxarray/stable/getting_started/getting_started.html\n",
      "  \n",
      "/home/s1332488/.local/lib/python3.7/site-packages/ipykernel_launcher.py:5: DeprecationWarning: open_rasterio is Deprecated in favor of rioxarray. For information about transitioning, see: https://corteva.github.io/rioxarray/stable/getting_started/getting_started.html\n",
      "  \"\"\"\n",
      "/home/s1332488/.local/lib/python3.7/site-packages/ipykernel_launcher.py:6: DeprecationWarning: open_rasterio is Deprecated in favor of rioxarray. For information about transitioning, see: https://corteva.github.io/rioxarray/stable/getting_started/getting_started.html\n",
      "  \n",
      "/home/s1332488/.local/lib/python3.7/site-packages/ipykernel_launcher.py:5: DeprecationWarning: open_rasterio is Deprecated in favor of rioxarray. For information about transitioning, see: https://corteva.github.io/rioxarray/stable/getting_started/getting_started.html\n",
      "  \"\"\"\n",
      "/home/s1332488/.local/lib/python3.7/site-packages/ipykernel_launcher.py:6: DeprecationWarning: open_rasterio is Deprecated in favor of rioxarray. For information about transitioning, see: https://corteva.github.io/rioxarray/stable/getting_started/getting_started.html\n",
      "  \n",
      "/home/s1332488/.local/lib/python3.7/site-packages/ipykernel_launcher.py:5: DeprecationWarning: open_rasterio is Deprecated in favor of rioxarray. For information about transitioning, see: https://corteva.github.io/rioxarray/stable/getting_started/getting_started.html\n",
      "  \"\"\"\n",
      "/home/s1332488/.local/lib/python3.7/site-packages/ipykernel_launcher.py:6: DeprecationWarning: open_rasterio is Deprecated in favor of rioxarray. For information about transitioning, see: https://corteva.github.io/rioxarray/stable/getting_started/getting_started.html\n",
      "  \n",
      "/home/s1332488/.local/lib/python3.7/site-packages/ipykernel_launcher.py:5: DeprecationWarning: open_rasterio is Deprecated in favor of rioxarray. For information about transitioning, see: https://corteva.github.io/rioxarray/stable/getting_started/getting_started.html\n",
      "  \"\"\"\n",
      "/home/s1332488/.local/lib/python3.7/site-packages/ipykernel_launcher.py:6: DeprecationWarning: open_rasterio is Deprecated in favor of rioxarray. For information about transitioning, see: https://corteva.github.io/rioxarray/stable/getting_started/getting_started.html\n",
      "  \n",
      "/home/s1332488/.local/lib/python3.7/site-packages/ipykernel_launcher.py:5: DeprecationWarning: open_rasterio is Deprecated in favor of rioxarray. For information about transitioning, see: https://corteva.github.io/rioxarray/stable/getting_started/getting_started.html\n",
      "  \"\"\"\n",
      "/home/s1332488/.local/lib/python3.7/site-packages/ipykernel_launcher.py:6: DeprecationWarning: open_rasterio is Deprecated in favor of rioxarray. For information about transitioning, see: https://corteva.github.io/rioxarray/stable/getting_started/getting_started.html\n",
      "  \n",
      "/home/s1332488/.local/lib/python3.7/site-packages/ipykernel_launcher.py:5: DeprecationWarning: open_rasterio is Deprecated in favor of rioxarray. For information about transitioning, see: https://corteva.github.io/rioxarray/stable/getting_started/getting_started.html\n",
      "  \"\"\"\n",
      "/home/s1332488/.local/lib/python3.7/site-packages/ipykernel_launcher.py:6: DeprecationWarning: open_rasterio is Deprecated in favor of rioxarray. For information about transitioning, see: https://corteva.github.io/rioxarray/stable/getting_started/getting_started.html\n",
      "  \n",
      "/home/s1332488/.local/lib/python3.7/site-packages/ipykernel_launcher.py:5: DeprecationWarning: open_rasterio is Deprecated in favor of rioxarray. For information about transitioning, see: https://corteva.github.io/rioxarray/stable/getting_started/getting_started.html\n",
      "  \"\"\"\n",
      "/home/s1332488/.local/lib/python3.7/site-packages/ipykernel_launcher.py:6: DeprecationWarning: open_rasterio is Deprecated in favor of rioxarray. For information about transitioning, see: https://corteva.github.io/rioxarray/stable/getting_started/getting_started.html\n",
      "  \n",
      "/home/s1332488/.local/lib/python3.7/site-packages/ipykernel_launcher.py:5: DeprecationWarning: open_rasterio is Deprecated in favor of rioxarray. For information about transitioning, see: https://corteva.github.io/rioxarray/stable/getting_started/getting_started.html\n",
      "  \"\"\"\n",
      "/home/s1332488/.local/lib/python3.7/site-packages/ipykernel_launcher.py:6: DeprecationWarning: open_rasterio is Deprecated in favor of rioxarray. For information about transitioning, see: https://corteva.github.io/rioxarray/stable/getting_started/getting_started.html\n",
      "  \n",
      "/home/s1332488/.local/lib/python3.7/site-packages/ipykernel_launcher.py:5: DeprecationWarning: open_rasterio is Deprecated in favor of rioxarray. For information about transitioning, see: https://corteva.github.io/rioxarray/stable/getting_started/getting_started.html\n",
      "  \"\"\"\n",
      "/home/s1332488/.local/lib/python3.7/site-packages/ipykernel_launcher.py:6: DeprecationWarning: open_rasterio is Deprecated in favor of rioxarray. For information about transitioning, see: https://corteva.github.io/rioxarray/stable/getting_started/getting_started.html\n",
      "  \n",
      "/home/s1332488/.local/lib/python3.7/site-packages/ipykernel_launcher.py:5: DeprecationWarning: open_rasterio is Deprecated in favor of rioxarray. For information about transitioning, see: https://corteva.github.io/rioxarray/stable/getting_started/getting_started.html\n",
      "  \"\"\"\n",
      "/home/s1332488/.local/lib/python3.7/site-packages/ipykernel_launcher.py:6: DeprecationWarning: open_rasterio is Deprecated in favor of rioxarray. For information about transitioning, see: https://corteva.github.io/rioxarray/stable/getting_started/getting_started.html\n",
      "  \n"
     ]
    },
    {
     "name": "stderr",
     "output_type": "stream",
     "text": [
      "/home/s1332488/.local/lib/python3.7/site-packages/ipykernel_launcher.py:5: DeprecationWarning: open_rasterio is Deprecated in favor of rioxarray. For information about transitioning, see: https://corteva.github.io/rioxarray/stable/getting_started/getting_started.html\n",
      "  \"\"\"\n",
      "/home/s1332488/.local/lib/python3.7/site-packages/ipykernel_launcher.py:6: DeprecationWarning: open_rasterio is Deprecated in favor of rioxarray. For information about transitioning, see: https://corteva.github.io/rioxarray/stable/getting_started/getting_started.html\n",
      "  \n",
      "/home/s1332488/.local/lib/python3.7/site-packages/ipykernel_launcher.py:5: DeprecationWarning: open_rasterio is Deprecated in favor of rioxarray. For information about transitioning, see: https://corteva.github.io/rioxarray/stable/getting_started/getting_started.html\n",
      "  \"\"\"\n",
      "/home/s1332488/.local/lib/python3.7/site-packages/ipykernel_launcher.py:6: DeprecationWarning: open_rasterio is Deprecated in favor of rioxarray. For information about transitioning, see: https://corteva.github.io/rioxarray/stable/getting_started/getting_started.html\n",
      "  \n",
      "/home/s1332488/.local/lib/python3.7/site-packages/ipykernel_launcher.py:5: DeprecationWarning: open_rasterio is Deprecated in favor of rioxarray. For information about transitioning, see: https://corteva.github.io/rioxarray/stable/getting_started/getting_started.html\n",
      "  \"\"\"\n",
      "/home/s1332488/.local/lib/python3.7/site-packages/ipykernel_launcher.py:6: DeprecationWarning: open_rasterio is Deprecated in favor of rioxarray. For information about transitioning, see: https://corteva.github.io/rioxarray/stable/getting_started/getting_started.html\n",
      "  \n",
      "/home/s1332488/.local/lib/python3.7/site-packages/ipykernel_launcher.py:5: DeprecationWarning: open_rasterio is Deprecated in favor of rioxarray. For information about transitioning, see: https://corteva.github.io/rioxarray/stable/getting_started/getting_started.html\n",
      "  \"\"\"\n",
      "/home/s1332488/.local/lib/python3.7/site-packages/ipykernel_launcher.py:6: DeprecationWarning: open_rasterio is Deprecated in favor of rioxarray. For information about transitioning, see: https://corteva.github.io/rioxarray/stable/getting_started/getting_started.html\n",
      "  \n",
      "/home/s1332488/.local/lib/python3.7/site-packages/ipykernel_launcher.py:5: DeprecationWarning: open_rasterio is Deprecated in favor of rioxarray. For information about transitioning, see: https://corteva.github.io/rioxarray/stable/getting_started/getting_started.html\n",
      "  \"\"\"\n",
      "/home/s1332488/.local/lib/python3.7/site-packages/ipykernel_launcher.py:6: DeprecationWarning: open_rasterio is Deprecated in favor of rioxarray. For information about transitioning, see: https://corteva.github.io/rioxarray/stable/getting_started/getting_started.html\n",
      "  \n",
      "/home/s1332488/.local/lib/python3.7/site-packages/ipykernel_launcher.py:5: DeprecationWarning: open_rasterio is Deprecated in favor of rioxarray. For information about transitioning, see: https://corteva.github.io/rioxarray/stable/getting_started/getting_started.html\n",
      "  \"\"\"\n",
      "/home/s1332488/.local/lib/python3.7/site-packages/ipykernel_launcher.py:6: DeprecationWarning: open_rasterio is Deprecated in favor of rioxarray. For information about transitioning, see: https://corteva.github.io/rioxarray/stable/getting_started/getting_started.html\n",
      "  \n",
      "/home/s1332488/.local/lib/python3.7/site-packages/ipykernel_launcher.py:5: DeprecationWarning: open_rasterio is Deprecated in favor of rioxarray. For information about transitioning, see: https://corteva.github.io/rioxarray/stable/getting_started/getting_started.html\n",
      "  \"\"\"\n",
      "/home/s1332488/.local/lib/python3.7/site-packages/ipykernel_launcher.py:6: DeprecationWarning: open_rasterio is Deprecated in favor of rioxarray. For information about transitioning, see: https://corteva.github.io/rioxarray/stable/getting_started/getting_started.html\n",
      "  \n"
     ]
    }
   ],
   "source": [
    "ds = get_dataset()"
   ]
  },
  {
   "cell_type": "code",
   "execution_count": 8,
   "metadata": {},
   "outputs": [],
   "source": [
    "ds = ds.where(ds>-1) "
   ]
  },
  {
   "cell_type": "code",
   "execution_count": 10,
   "metadata": {},
   "outputs": [],
   "source": [
    "ds.to_netcdf('DEM_timeseries_3m.nc')"
   ]
  },
  {
   "cell_type": "code",
   "execution_count": null,
   "metadata": {},
   "outputs": [],
   "source": []
  }
 ],
 "metadata": {
  "kernelspec": {
   "display_name": "XR",
   "language": "python",
   "name": "xr"
  },
  "language_info": {
   "codemirror_mode": {
    "name": "ipython",
    "version": 3
   },
   "file_extension": ".py",
   "mimetype": "text/x-python",
   "name": "python",
   "nbconvert_exporter": "python",
   "pygments_lexer": "ipython3",
   "version": "3.7.10"
  }
 },
 "nbformat": 4,
 "nbformat_minor": 4
}
