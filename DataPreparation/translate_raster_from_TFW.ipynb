{
 "cells": [
  {
   "cell_type": "code",
   "execution_count": 45,
   "metadata": {},
   "outputs": [],
   "source": [
    "import xarray as xr\n",
    "import rioxarray as rx\n",
    "import os\n",
    "import geopandas as gpd\n",
    "import numpy"
   ]
  },
  {
   "cell_type": "code",
   "execution_count": 14,
   "metadata": {},
   "outputs": [],
   "source": [
    "os.chdir('/exports/csce/datastore/geos/users/s1332488/Chapter3')"
   ]
  },
  {
   "cell_type": "code",
   "execution_count": 92,
   "metadata": {},
   "outputs": [],
   "source": [
    "def translate_raster(worldfile, rasterfile):\n",
    "    OUT = rasterfile.split('.tif')[0]+'_GR.tif'\n",
    "    # Get top-left corner from worldfile\n",
    "    xy = [x.strip() for x in open(worldfile,'r').readlines()]\n",
    "    x, y = float(xy[4]), float(xy[5])\n",
    "    # Open raster and apply translation\n",
    "    ras = rx.open_rasterio(rasterfile)\n",
    "    x0 = ras.x[0].values\n",
    "    y0 = ras.y[0].values\n",
    "    dx, dy = x0 - x, y0 - y\n",
    "    ras.coords['y'] = ras['y'] - dy\n",
    "    ras.coords['x'] = ras['x'] - dx\n",
    "    ras.rio.to_raster(OUT)\n",
    "    "
   ]
  },
  {
   "cell_type": "code",
   "execution_count": 93,
   "metadata": {},
   "outputs": [],
   "source": [
    "translate_raster('Gabon_OPTICAL.tfw','Gabon_OPTICAL.tif')\n",
    "translate_raster('CAPELLA__left_gab.tfw','CAPELLA__left_gab.tif')\n",
    "translate_raster('CAPELLA__right_gab.tfw','CAPELLA__right_gab.tif')"
   ]
  },
  {
   "cell_type": "code",
   "execution_count": null,
   "metadata": {},
   "outputs": [],
   "source": []
  }
 ],
 "metadata": {
  "kernelspec": {
   "display_name": "XR",
   "language": "python",
   "name": "xr"
  },
  "language_info": {
   "codemirror_mode": {
    "name": "ipython",
    "version": 3
   },
   "file_extension": ".py",
   "mimetype": "text/x-python",
   "name": "python",
   "nbconvert_exporter": "python",
   "pygments_lexer": "ipython3",
   "version": "3.7.10"
  }
 },
 "nbformat": 4,
 "nbformat_minor": 4
}
