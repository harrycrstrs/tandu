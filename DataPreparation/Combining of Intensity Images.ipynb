{
 "cells": [
  {
   "cell_type": "code",
   "execution_count": 164,
   "metadata": {},
   "outputs": [],
   "source": [
    "from osgeo import gdal"
   ]
  },
  {
   "cell_type": "code",
   "execution_count": 165,
   "metadata": {},
   "outputs": [],
   "source": [
    "import xarray as xr\n",
    "import rasterio as rx\n",
    "import numpy as np\n",
    "from glob import glob\n",
    "import os\n",
    "from datetime import datetime as dt\n",
    "from matplotlib import pyplot as plt"
   ]
  },
  {
   "cell_type": "code",
   "execution_count": 166,
   "metadata": {},
   "outputs": [],
   "source": [
    "os.chdir('/disk/scratch/local.4/harry/TDX/intensity/nc')"
   ]
  },
  {
   "cell_type": "code",
   "execution_count": 167,
   "metadata": {},
   "outputs": [],
   "source": [
    "asc = glob('*_A_*.nc')\n",
    "desc = glob('*_D_*.nc')"
   ]
  },
  {
   "cell_type": "code",
   "execution_count": 169,
   "metadata": {},
   "outputs": [],
   "source": [
    "C = 3 # coarsening factor\n",
    "\n",
    "def open_file(F):\n",
    "    ds = xr.open_dataset(F)\n",
    "    intensity = [x for x in list(ds.keys()) if 'Intensity' in x]\n",
    "    da = ds[intensity[0]].rename('intensity')\n",
    "    coarse = da.coarsen(lat=C,lon=C,boundary='trim').mean()\n",
    "    time = dt.strptime(F.split('_')[-3],'%Y%m%dT%H%M%S')\n",
    "    da = coarse.assign_coords(t=time).expand_dims('t')\n",
    "    return da.to_dataset().astype('float16')\n",
    "\n",
    "def get_combined(files):\n",
    "    intensity = [open_file(x) for x in files]\n",
    "    LAT,LON = intensity[0].lat, intensity[0].lon\n",
    "    interpolated = [ds.interp(lat=LAT,lon=LON) for ds in intensity]\n",
    "    return xr.merge(interpolated)"
   ]
  },
  {
   "cell_type": "code",
   "execution_count": 170,
   "metadata": {},
   "outputs": [],
   "source": [
    "ds_A = get_combined(asc)\n",
    "ds_D = get_combined(desc)"
   ]
  },
  {
   "cell_type": "code",
   "execution_count": 171,
   "metadata": {},
   "outputs": [],
   "source": [
    "# ds_A.to_netcdf('ascending_25looks.nc')\n",
    "# ds_D.to_netcdf('descending_25looks.nc')"
   ]
  },
  {
   "cell_type": "code",
   "execution_count": 162,
   "metadata": {},
   "outputs": [],
   "source": []
  },
  {
   "cell_type": "code",
   "execution_count": 118,
   "metadata": {},
   "outputs": [],
   "source": [
    " # Cumulative Sum of Residuals"
   ]
  },
  {
   "cell_type": "code",
   "execution_count": 143,
   "metadata": {},
   "outputs": [],
   "source": []
  },
  {
   "cell_type": "code",
   "execution_count": null,
   "metadata": {},
   "outputs": [],
   "source": []
  }
 ],
 "metadata": {
  "kernelspec": {
   "display_name": "XR",
   "language": "python",
   "name": "xr"
  },
  "language_info": {
   "codemirror_mode": {
    "name": "ipython",
    "version": 3
   },
   "file_extension": ".py",
   "mimetype": "text/x-python",
   "name": "python",
   "nbconvert_exporter": "python",
   "pygments_lexer": "ipython3",
   "version": "3.7.10"
  }
 },
 "nbformat": 4,
 "nbformat_minor": 4
}
